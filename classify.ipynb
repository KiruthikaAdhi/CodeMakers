{
  "cells": [
    {
      "metadata": {
        "trusted": true
      },
      "cell_type": "code",
      "source": "!pip install --upgrade tensorflow",
      "execution_count": 2,
      "outputs": [
        {
          "output_type": "stream",
          "text": "Requirement already up-to-date: tensorflow in /home/nbuser/anaconda3_501/lib/python3.6/site-packages (1.11.0)\nRequirement already satisfied, skipping upgrade: grpcio>=1.8.6 in /home/nbuser/anaconda3_501/lib/python3.6/site-packages (from tensorflow) (1.15.0)\nRequirement already satisfied, skipping upgrade: protobuf>=3.6.0 in /home/nbuser/anaconda3_501/lib/python3.6/site-packages (from tensorflow) (3.6.1)\nRequirement already satisfied, skipping upgrade: absl-py>=0.1.6 in /home/nbuser/anaconda3_501/lib/python3.6/site-packages (from tensorflow) (0.6.0)\nRequirement already satisfied, skipping upgrade: astor>=0.6.0 in /home/nbuser/anaconda3_501/lib/python3.6/site-packages (from tensorflow) (0.7.1)\nRequirement already satisfied, skipping upgrade: termcolor>=1.1.0 in /home/nbuser/anaconda3_501/lib/python3.6/site-packages (from tensorflow) (1.1.0)\nRequirement already satisfied, skipping upgrade: six>=1.10.0 in /home/nbuser/anaconda3_501/lib/python3.6/site-packages (from tensorflow) (1.11.0)\nRequirement already satisfied, skipping upgrade: keras-preprocessing>=1.0.3 in /home/nbuser/anaconda3_501/lib/python3.6/site-packages (from tensorflow) (1.0.5)\nRequirement already satisfied, skipping upgrade: wheel>=0.26 in /home/nbuser/anaconda3_501/lib/python3.6/site-packages (from tensorflow) (0.30.0)\nRequirement already satisfied, skipping upgrade: keras-applications>=1.0.5 in /home/nbuser/anaconda3_501/lib/python3.6/site-packages (from tensorflow) (1.0.6)\nRequirement already satisfied, skipping upgrade: setuptools<=39.1.0 in /home/nbuser/anaconda3_501/lib/python3.6/site-packages (from tensorflow) (39.1.0)\nRequirement already satisfied, skipping upgrade: gast>=0.2.0 in /home/nbuser/anaconda3_501/lib/python3.6/site-packages (from tensorflow) (0.2.0)\nRequirement already satisfied, skipping upgrade: tensorboard<1.12.0,>=1.11.0 in /home/nbuser/anaconda3_501/lib/python3.6/site-packages (from tensorflow) (1.11.0)\nRequirement already satisfied, skipping upgrade: numpy>=1.13.3 in /home/nbuser/anaconda3_501/lib/python3.6/site-packages (from tensorflow) (1.15.2)\nRequirement already satisfied, skipping upgrade: h5py in /home/nbuser/anaconda3_501/lib/python3.6/site-packages (from keras-applications>=1.0.5->tensorflow) (2.8.0)\nRequirement already satisfied, skipping upgrade: werkzeug>=0.11.10 in /home/nbuser/anaconda3_501/lib/python3.6/site-packages (from tensorboard<1.12.0,>=1.11.0->tensorflow) (0.12.2)\nRequirement already satisfied, skipping upgrade: markdown>=2.6.8 in /home/nbuser/anaconda3_501/lib/python3.6/site-packages (from tensorboard<1.12.0,>=1.11.0->tensorflow) (3.0.1)\n\u001b[33mYou are using pip version 18.0, however version 18.1 is available.\nYou should consider upgrading via the 'pip install --upgrade pip' command.\u001b[0m\n",
          "name": "stdout"
        }
      ]
    },
    {
      "metadata": {
        "trusted": true
      },
      "cell_type": "code",
      "source": "from PIL import Image\nimport numpy as np\nimport pandas as pd\nimport tensorflow as tf",
      "execution_count": 3,
      "outputs": []
    },
    {
      "metadata": {
        "trusted": true
      },
      "cell_type": "code",
      "source": "rectSize = 5\ninputImagePath = \"post_disaster\"\ninputImageFile = \"humblePost.tiff\"\ninputImage = Image.open(inputImagePath + '/' + inputImageFile)\ninputImage = inputImage.resize((512,512),Image.ANTIALIAS)\nipx, ipy = inputImage.size\nprint(ipx,ipy)\noutputImagePath = \"classify_output\"\noutputImageFile = \"humblePostRoad.tiff\"\noutputImage = inputImage.crop((rectSize//2, rectSize//2, ipx - (rectSize//2), ipy - (rectSize//2)))\nopx, opy = outputImage.size\n",
      "execution_count": 6,
      "outputs": [
        {
          "output_type": "stream",
          "text": "512 512\n",
          "name": "stdout"
        }
      ]
    },
    {
      "metadata": {
        "trusted": true
      },
      "cell_type": "code",
      "source": "numeric_columns = []\nfor i in range(1,76):\n    numeric_columns.append(\"c\"+str(i))\n#print(numeric_columns)\nnumeric_features = [ tf.feature_column.numeric_column(key = column)\n                    for column in numeric_columns]\n#print(numeric_features[0])\ntrainingSteps = 1000\ntotal = 5000\nclassifierConfig = tf.estimator.RunConfig(save_checkpoints_secs = None, save_checkpoints_steps = trainingSteps)\nhiddenUnits = [100, 150, 100, 50]\nclasses = 2\nmodelDir = 'model'\n\nclassifier = tf.estimator.DNNClassifier(feature_columns = numeric_features,\n                                             hidden_units = hiddenUnits,\n                                             n_classes = classes,\n                                             model_dir = modelDir,\n                                             config = classifierConfig)",
      "execution_count": 7,
      "outputs": [
        {
          "output_type": "stream",
          "text": "INFO:tensorflow:Using config: {'_model_dir': 'model', '_tf_random_seed': None, '_save_summary_steps': 100, '_save_checkpoints_steps': 1000, '_save_checkpoints_secs': None, '_session_config': allow_soft_placement: true\ngraph_options {\n  rewrite_options {\n    meta_optimizer_iterations: ONE\n  }\n}\n, '_keep_checkpoint_max': 5, '_keep_checkpoint_every_n_hours': 10000, '_log_step_count_steps': 100, '_train_distribute': None, '_device_fn': None, '_protocol': None, '_eval_distribute': None, '_experimental_distribute': None, '_service': None, '_cluster_spec': <tensorflow.python.training.server_lib.ClusterSpec object at 0x7fb0a4dc7b00>, '_task_type': 'worker', '_task_id': 0, '_global_id_in_cluster': 0, '_master': '', '_evaluation_master': '', '_is_chief': True, '_num_ps_replicas': 0, '_num_worker_replicas': 1}\n",
          "name": "stdout"
        }
      ]
    },
    {
      "metadata": {
        "trusted": true
      },
      "cell_type": "code",
      "source": "def extractFeatures():\n    features = np.zeros((((ipx - ((rectSize//2)*2)) * (ipy - ((rectSize//2)*2))), rectSize*rectSize*3), dtype=np.int)\n    print(features.shape)\n    rowIndex = 0\n    \n    for x in range(rectSize//2, ipx -(rectSize//2) ):\n        for y in range(rectSize//2, ipy -(rectSize//2) ):\n            rect = (x - (rectSize//2), y - (rectSize//2), x + (rectSize//2) + 1,y + (rectSize//2) + 1 )\n            subImage = inputImage.crop(rect).load()\n            colIndex = 0       \n            for i in range(rectSize):\n                for j in range(rectSize):\n                    features[rowIndex, colIndex] = subImage[i, j][0]\n                    colIndex += 1\n                    features[rowIndex, colIndex] = subImage[i, j][1]\n                    colIndex += 1\n                    features[rowIndex, colIndex] = subImage[i, j][2]\n                    colIndex += 1\n            rowIndex += 1\n    return features\n\ndef constructOutputImage(predictions):\n    outputImgPixels = outputImage.load()\n    print(len(predictions))\n    print(opx*opy)\n    rowIndex = 0\n    for x in range(opx):\n        for y in range(opy):\n            if(rowIndex >= len(predictions)):\n                outputImgPixels[x, y] = (0, 0, 0)\n            if(predictions[rowIndex]['class_ids'][0]):\n                outputImgPixels[x, y] = (255, 255, 255)\n            else:\n                outputImgPixels[x, y] = (0, 0, 0)\n            rowIndex += 1\n    \n\n\n# predictions = list(classifier.predict(input_fn = extractFeatures))\n# print(predictions)\n# constructOutputImage(predictions)\n# outputImage.save(outputImagePath + '/' + outputImageFile, 'JPEG')\n",
      "execution_count": 8,
      "outputs": []
    },
    {
      "metadata": {
        "trusted": true
      },
      "cell_type": "code",
      "source": "x = extractFeatures()",
      "execution_count": 9,
      "outputs": [
        {
          "output_type": "stream",
          "text": "(258064, 75)\n",
          "name": "stdout"
        }
      ]
    },
    {
      "metadata": {
        "trusted": true
      },
      "cell_type": "code",
      "source": "# y = x.T\ncol = []\nfor i in range(1,76):\n    col.append(\"c\"+str(i))\nprint(col)\n# featureDict = {}\n# for i in range(len(y)):\n#     featureDict[col[i]] = list(y[i])\n    \n# print(featureDict)\nprint(x)\nx_predict = pd.DataFrame(data = x, columns = col, index = None)\nprint(x_predict)\npredict_input_fn = tf.estimator.inputs.pandas_input_fn(\n                    x = x_predict,\n                    y = None,\n                    batch_size = 32,\n                    shuffle = False,\n                    num_epochs = 1    \n                    )    ",
      "execution_count": 10,
      "outputs": [
        {
          "output_type": "stream",
          "text": "['c1', 'c2', 'c3', 'c4', 'c5', 'c6', 'c7', 'c8', 'c9', 'c10', 'c11', 'c12', 'c13', 'c14', 'c15', 'c16', 'c17', 'c18', 'c19', 'c20', 'c21', 'c22', 'c23', 'c24', 'c25', 'c26', 'c27', 'c28', 'c29', 'c30', 'c31', 'c32', 'c33', 'c34', 'c35', 'c36', 'c37', 'c38', 'c39', 'c40', 'c41', 'c42', 'c43', 'c44', 'c45', 'c46', 'c47', 'c48', 'c49', 'c50', 'c51', 'c52', 'c53', 'c54', 'c55', 'c56', 'c57', 'c58', 'c59', 'c60', 'c61', 'c62', 'c63', 'c64', 'c65', 'c66', 'c67', 'c68', 'c69', 'c70', 'c71', 'c72', 'c73', 'c74', 'c75']\n[[106  97 100 ...  51  65  66]\n [ 95  95  96 ...  67  78  82]\n [ 77  88  87 ...  69  74  78]\n ...\n [ 58  66  70 ...  37  45  51]\n [ 54  65  66 ...  38  46  53]\n [ 51  63  63 ...  27  35  41]]\n         c1   c2   c3   c4   c5   c6   c7   c8   c9  c10 ...   c66  c67  c68  \\\n0       106   97  100   95   95   96   77   88   87   61 ...    85   57   68   \n1        95   95   96   77   88   87   61   75   72   46 ...    67   53   66   \n2        77   88   87   61   75   72   46   60   59   52 ...    66   51   65   \n3        61   75   72   46   60   59   52   63   65   53 ...    66   67   78   \n4        46   60   59   52   63   65   53   59   63   91 ...    82   69   74   \n5        52   63   65   53   59   63   91   91   93  102 ...    78   96   96   \n6        53   59   63   91   91   93  102  101   99  100 ...    98  103  101   \n7        91   91   93  102  101   99  100   98   93  101 ...    99   99   97   \n8       102  101   99  100   98   93  101   99   93  102 ...    91  102  100   \n9       100   98   93  101   99   93  102  100   94  106 ...    93  103  100   \n10      101   99   93  102  100   94  106  102   96  106 ...    94  107  101   \n11      102  100   94  106  102   96  106  102   96  106 ...    96  107  101   \n12      106  102   96  106  102   96  106  102   96  106 ...    96  107  101   \n13      106  102   96  106  102   96  106  102   96  106 ...    96  107  101   \n14      106  102   96  106  102   96  106  102   96  108 ...    96  107  101   \n15      106  102   96  106  102   96  108  101   96  110 ...    96  107  102   \n16      106  102   96  108  101   96  110  100   96  110 ...    97  105  102   \n17      108  101   96  110  100   96  110  100   96  111 ...    98  107  103   \n18      110  100   96  110  100   96  111  102   97  109 ...    99  108  102   \n19      110  100   96  111  102   97  109   98   97  107 ...    99  104   99   \n20      111  102   97  109   98   97  107  101  102   89 ...    96  105  103   \n21      109   98   97  107  101  102   89   96   94   62 ...   101   96   96   \n22      107  101  102   89   96   94   62   74   72   47 ...    95   74   77   \n23       89   96   94   62   74   72   47   58   60   45 ...    78   44   48   \n24       62   74   72   47   58   60   45   56   59   37 ...    52   54   64   \n25       47   58   60   45   56   59   37   48   52   45 ...    65   43   59   \n26       45   56   59   37   48   52   45   56   59   54 ...    58   39   56   \n27       37   48   52   45   56   59   54   64   68   47 ...    57   43   57   \n28       45   56   59   54   64   68   47   56   60   39 ...    61   44   58   \n29       54   64   68   47   56   60   39   49   52   45 ...    62   42   56   \n...     ...  ...  ...  ...  ...  ...  ...  ...  ...  ... ...   ...  ...  ...   \n258034   38   52   56   56   69   74   29   42   47   21 ...    46   15   23   \n258035   56   69   74   29   42   47   21   34   38   46 ...    30   27   35   \n258036   29   42   47   21   34   38   46   60   64   43 ...    42   33   43   \n258037   21   34   38   46   60   64   43   58   62   45 ...    49   36   48   \n258038   46   60   64   43   58   62   45   59   63   25 ...    53   41   55   \n258039   43   58   62   45   59   63   25   38   42   35 ...    57   32   44   \n258040   45   59   63   25   38   42   35   47   52   32 ...    47   50   61   \n258041   25   38   42   35   47   52   32   42   48   49 ...    64   43   54   \n258042   35   47   52   32   42   48   49   60   65   47 ...    57   35   46   \n258043   32   42   48   49   60   65   47   59   63   45 ...    49   18   29   \n258044   49   60   65   47   59   63   45   54   60   34 ...    32   29   39   \n258045   47   59   63   45   54   60   34   42   47   36 ...    45   49   60   \n258046   45   54   60   34   42   47   36   44   48   44 ...    64   34   45   \n258047   34   42   47   36   44   48   44   53   57   42 ...    48   36   47   \n258048   36   44   48   44   53   57   42   50   54   41 ...    50   34   44   \n258049   44   53   57   42   50   54   41   49   53   43 ...    47   48   59   \n258050   42   50   54   41   49   53   43   51   55   30 ...    62   30   42   \n258051   41   49   53   43   51   55   30   38   42   37 ...    43   42   55   \n258052   43   51   55   30   38   42   37   45   49   39 ...    55   43   56   \n258053   30   38   42   37   45   49   39   47   51   30 ...    56   46   60   \n258054   37   45   49   39   47   51   30   38   42   50 ...    60   47   60   \n258055   39   47   51   30   38   42   50   59   63   48 ...    60   29   40   \n258056   30   38   42   50   59   63   48   56   60   50 ...    41   28   36   \n258057   50   59   63   48   56   60   50   58   62   60 ...    40   30   38   \n258058   48   56   60   50   58   62   60   67   72   58 ...    44   49   56   \n258059   50   58   62   60   67   72   58   66   70   54 ...    61   62   68   \n258060   60   67   72   58   66   70   54   65   66   51 ...    71   45   53   \n258061   58   66   70   54   65   66   51   63   63   42 ...    57   36   45   \n258062   54   65   66   51   63   63   42   53   54   42 ...    49   30   39   \n258063   51   63   63   42   53   54   42   53   56   48 ...    43   37   45   \n\n        c69  c70  c71  c72  c73  c74  c75  \n0        67   53   66   66   51   65   66  \n1        66   51   65   66   67   78   82  \n2        66   67   78   82   69   74   78  \n3        82   69   74   78   96   96   98  \n4        78   96   96   98  103  101   99  \n5        98  103  101   99   99   97   91  \n6        99   99   97   91  102  100   93  \n7        91  102  100   93  103  100   94  \n8        93  103  100   94  107  101   96  \n9        94  107  101   96  107  101   96  \n10       96  107  101   96  107  101   96  \n11       96  107  101   96  107  101   96  \n12       96  107  101   96  107  101   96  \n13       96  107  101   96  107  102   97  \n14       96  107  102   97  105  102   98  \n15       97  105  102   98  107  103   99  \n16       98  107  103   99  108  102   99  \n17       99  108  102   99  104   99   96  \n18       99  104   99   96  105  103  101  \n19       96  105  103  101   96   96   95  \n20      101   96   96   95   74   77   78  \n21       95   74   77   78   44   48   52  \n22       78   44   48   52   54   64   65  \n23       52   54   64   65   43   59   58  \n24       65   43   59   58   39   56   57  \n25       58   39   56   57   43   57   61  \n26       57   43   57   61   44   58   62  \n27       61   44   58   62   42   56   60  \n28       62   42   56   60   37   51   55  \n29       60   37   51   55   41   56   60  \n...     ...  ...  ...  ...  ...  ...  ...  \n258034   30   27   35   42   33   43   49  \n258035   42   33   43   49   36   48   53  \n258036   49   36   48   53   41   55   57  \n258037   53   41   55   57   32   44   47  \n258038   57   32   44   47   50   61   64  \n258039   47   50   61   64   43   54   57  \n258040   64   43   54   57   35   46   49  \n258041   57   35   46   49   18   29   32  \n258042   49   18   29   32   29   39   45  \n258043   32   29   39   45   49   60   64  \n258044   45   49   60   64   34   45   48  \n258045   64   34   45   48   36   47   50  \n258046   48   36   47   50   34   44   47  \n258047   50   34   44   47   48   59   62  \n258048   47   48   59   62   30   42   43  \n258049   62   30   42   43   42   55   55  \n258050   43   42   55   55   43   56   56  \n258051   55   43   56   56   46   60   60  \n258052   56   46   60   60   47   60   60  \n258053   60   47   60   60   29   40   41  \n258054   60   29   40   41   28   36   40  \n258055   41   28   36   40   30   38   44  \n258056   40   30   38   44   49   56   61  \n258057   44   49   56   61   62   68   71  \n258058   61   62   68   71   45   53   57  \n258059   71   45   53   57   36   45   49  \n258060   57   36   45   49   30   39   43  \n258061   49   30   39   43   37   45   51  \n258062   43   37   45   51   38   46   53  \n258063   51   38   46   53   27   35   41  \n\n[258064 rows x 75 columns]\n",
          "name": "stdout"
        }
      ]
    },
    {
      "metadata": {
        "trusted": true
      },
      "cell_type": "code",
      "source": "predictions = list(classifier.predict(input_fn = predict_input_fn))\nprint(predictions[0])\nconstructOutputImage(predictions)\noutputImage.save(outputImagePath + '/' + outputImageFile, 'TIFF')\n",
      "execution_count": 11,
      "outputs": [
        {
          "output_type": "stream",
          "text": "WARNING:tensorflow:From /home/nbuser/anaconda3_501/lib/python3.6/site-packages/tensorflow/python/estimator/inputs/queues/feeding_queue_runner.py:62: QueueRunner.__init__ (from tensorflow.python.training.queue_runner_impl) is deprecated and will be removed in a future version.\nInstructions for updating:\nTo construct input pipelines, use the `tf.data` module.\nWARNING:tensorflow:From /home/nbuser/anaconda3_501/lib/python3.6/site-packages/tensorflow/python/estimator/inputs/queues/feeding_functions.py:500: add_queue_runner (from tensorflow.python.training.queue_runner_impl) is deprecated and will be removed in a future version.\nInstructions for updating:\nTo construct input pipelines, use the `tf.data` module.\nINFO:tensorflow:Calling model_fn.\nINFO:tensorflow:Done calling model_fn.\nINFO:tensorflow:Graph was finalized.\nINFO:tensorflow:Restoring parameters from model/model.ckpt-4000\nINFO:tensorflow:Running local_init_op.\nINFO:tensorflow:Done running local_init_op.\nWARNING:tensorflow:From /home/nbuser/anaconda3_501/lib/python3.6/site-packages/tensorflow/python/training/monitored_session.py:804: start_queue_runners (from tensorflow.python.training.queue_runner_impl) is deprecated and will be removed in a future version.\nInstructions for updating:\nTo construct input pipelines, use the `tf.data` module.\n{'logits': array([1.0063846], dtype=float32), 'logistic': array([0.732312], dtype=float32), 'probabilities': array([0.26768798, 0.732312  ], dtype=float32), 'class_ids': array([1]), 'classes': array([b'1'], dtype=object)}\n258064\n258064\n",
          "name": "stdout"
        }
      ]
    }
  ],
  "metadata": {
    "kernelspec": {
      "name": "python36",
      "display_name": "Python 3.6",
      "language": "python"
    },
    "language_info": {
      "mimetype": "text/x-python",
      "nbconvert_exporter": "python",
      "name": "python",
      "pygments_lexer": "ipython3",
      "version": "3.6.6",
      "file_extension": ".py",
      "codemirror_mode": {
        "version": 3,
        "name": "ipython"
      }
    }
  },
  "nbformat": 4,
  "nbformat_minor": 2
}